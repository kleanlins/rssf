{
 "cells": [
  {
   "cell_type": "code",
   "execution_count": 6,
   "metadata": {
    "scrolled": true
   },
   "outputs": [
    {
     "name": "stdout",
     "output_type": "stream",
     "text": [
      "[(10, 14), (6, 13), (5, 9), (11, 6), (10, 3)]\n"
     ]
    },
    {
     "data": {
      "image/png": "[encoded data removed]",
      "text/plain": [
       "<Figure size 432x288 with 1 Axes>"
      ]
     },
     "metadata": {
      "needs_background": "light"
     },
     "output_type": "display_data"
    }
   ],
   "source": [
    "import matplotlib.pyplot as plt\n",
    "import sys\n",
    "sys.path.insert(0, '../model')\n",
    "\n",
    "# user made models\n",
    "import host\n",
    "import package\n",
    "import router\n",
    "import utils\n",
    "\n",
    "## AREA DESCRIPTION ##\n",
    "\n",
    "hosts_quantity = 5\n",
    "\n",
    "# values below corresponds to a measurement in kilometers\n",
    "width = 15\n",
    "height = 15\n",
    "\n",
    "# get arrays containing coordinates\n",
    "x, y = utils.generate_coordinates(hosts_quantity, width, height)\n",
    "\n",
    "lista = []\n",
    "for i in range(len(x)):\n",
    "    lista.append((x[i],y[i]))\n",
    "\n",
    "print(lista)\n",
    "\n",
    "# figure dimensions\n",
    "plt.axis([0, width, 0, height])\n",
    "\n",
    "    # figure labels\n",
    "plt.xlabel(\"in Km\")\n",
    "plt.ylabel(\"in Km\")\n",
    "\n",
    "for i in range(len(lista)-1):\n",
    "    if(i<=len(lista)):\n",
    "        \n",
    "        plt.plot(lista[i][0], lista[i][1], 'k^')       \n",
    "\n",
    "        # plotting the path from actual host to the next host\n",
    "        plt.arrow(lista[i][0], lista[i][1], lista[i+1][0] - lista[i][0], lista[i+1][1] - lista[i][1])\n",
    "    \n",
    "    plt.plot(lista[i+1][0], lista[i+1][1], 'k^')\n",
    "    \n",
    "plt.show()\n",
    "\n",
    "# static host positions for testing purposes\n",
    "# x = [1, 5, 6, 9]\n",
    "# y = [1, 6, 3, 5]\n",
    "\n",
    "# # figure dimensions\n",
    "# plt.axis([0, width, 0, height])\n",
    "\n",
    "# # figure labels\n",
    "# plt.xlabel(\"in Km\")\n",
    "# plt.ylabel(\"in Km\")\n",
    "\n",
    "# # plotting triangles\n",
    "# plt.plot(x, y, 'k^')\n",
    "\n",
    "# # plotting hosts names\n",
    "# for i in range(hosts_quantity):\n",
    "#     plt.annotate(i, (x[i]+0.1, y[i]+0.1))\n",
    "\n",
    "# # plotting estimated area coverage\n",
    "# plt.scatter(x, y, s=25000, alpha=0.1)\n",
    "\n",
    "# # plt.arrow(x[1], y[1], x[2]-x[1], y[2]-y[1])\n",
    "\n",
    "plt.show()"
   ]
  },
  {
   "cell_type": "code",
   "execution_count": null,
   "metadata": {},
   "outputs": [],
   "source": []
  },
  {
   "cell_type": "code",
   "execution_count": null,
   "metadata": {},
   "outputs": [],
   "source": []
  }
 ],
 "metadata": {
  "kernelspec": {
   "display_name": "Python 3",
   "language": "python",
   "name": "python3"
  },
  "language_info": {
   "codemirror_mode": {
    "name": "ipython",
    "version": 3
   },
   "file_extension": ".py",
   "mimetype": "text/x-python",
   "name": "python",
   "nbconvert_exporter": "python",
   "pygments_lexer": "ipython3",
   "version": "3.7.3"
  }
 },
 "nbformat": 4,
 "nbformat_minor": 2
}
