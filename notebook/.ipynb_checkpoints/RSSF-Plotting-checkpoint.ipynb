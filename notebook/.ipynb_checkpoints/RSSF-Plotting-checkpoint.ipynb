{
 "cells": [
  {
   "cell_type": "code",
   "execution_count": 1,
   "metadata": {
    "scrolled": true
   },
   "outputs": [
    {
     "ename": "SyntaxError",
     "evalue": "invalid syntax (<ipython-input-1-31f92042991a>, line 1)",
     "output_type": "error",
     "traceback": [
      "\u001b[0;36m  File \u001b[0;32m\"<ipython-input-1-31f92042991a>\"\u001b[0;36m, line \u001b[0;32m1\u001b[0m\n\u001b[0;31m    import matplotlib.pyplot as\u001b[0m\n\u001b[0m                                ^\u001b[0m\n\u001b[0;31mSyntaxError\u001b[0m\u001b[0;31m:\u001b[0m invalid syntax\n"
     ]
    }
   ],
   "source": [
    "import matplotlib.pyplot as plt\n",
    "import sys\n",
    "sys.path.insert(0, '../model')\n",
    "\n",
    "# models\n",
    "from router import Router\n",
    "from host import Host\n",
    "\n",
    "# utils\n",
    "import utils\n",
    "import views\n",
    "\n",
    "# __init__ variables\n",
    "WIDTH = 15\n",
    "HEIGHT = 15\n",
    "\n",
    "HOSTS_QUANTITY = 10\n",
    "SIGNAL_RANGE = 5\n",
    "\n",
    "class Manager:\n",
    "\n",
    "    def __init__(self):\n",
    "        self.width = WIDTH\n",
    "        self.height = HEIGHT\n",
    "        self.host_quantity = HOSTS_QUANTITY\n",
    "        self.signal_range = SIGNAL_RANGE\n",
    "        \n",
    "        self.hosts = list()\n",
    "\n",
    "        ## HOSTS INSTANTIATION ##\n",
    "        # generates a random position and creates a host with it \n",
    "        print(f\"\\nGenerating positions for {HOSTS_QUANTITY} hosts in a map {WIDTH}x{HEIGHT} Km...\", end=\" \")\n",
    "        positions = utils.generate_coordinates(HOSTS_QUANTITY, WIDTH, HEIGHT)\n",
    "        for position in positions:\n",
    "            self.hosts.append(Host(position, SIGNAL_RANGE))\n",
    "        print(f\"{HOSTS_QUANTITY} hosts were created.\")\n",
    "\n",
    "        ## ROUTER INSTANTIATION ##\n",
    "        print(\"Creating router...\", end=\" \")\n",
    "        router = Router(self.hosts)\n",
    "        print(\"Router created.\")\n",
    "\n",
    "        # gives an list of near active hosts for each host\n",
    "        print(\"Running Hello for each host...\", end=\" \")\n",
    "        router.hello()\n",
    "        print(\"Host Hello status complete.\\n\")\n",
    "\n",
    "        # now each host should discover a route to each other host\n",
    "        # router.create_routes()\n",
    "\n",
    "\n",
    "    def __repr__(self):\n",
    "        '''\n",
    "        Returns network information.\n",
    "        '''\n",
    "        pass\n",
    "\n",
    "\n",
    "    def send_data(self, data, sender, receiver):\n",
    "        '''\n",
    "        Sends a package based on its sender and receiver.\n",
    "        If there's no way to get to the receiver, throws an error.\n",
    "        If gets a list of hosts back, plot the route.\n",
    "        '''\n",
    "        # for each host in route -> host.forward(Package(\"data\", 0, 1))\n",
    "        pass\n",
    "\n",
    "\n",
    "    def show_map(self):\n",
    "        views.plot_map(self.hosts, WIDTH, HEIGHT)\n",
    "\n",
    "    \n",
    "    def reachable_hosts(self, host):\n",
    "        views.plot_reachable_hosts(self.hosts)\n"
   ]
  },
  {
   "cell_type": "code",
   "execution_count": null,
   "metadata": {},
   "outputs": [],
   "source": [
    "m = Manager()"
   ]
  },
  {
   "cell_type": "code",
   "execution_count": null,
   "metadata": {},
   "outputs": [],
   "source": [
    "m.show_map()"
   ]
  },
  {
   "cell_type": "code",
   "execution_count": null,
   "metadata": {},
   "outputs": [],
   "source": []
  }
 ],
 "metadata": {
  "kernelspec": {
   "display_name": "Python 3",
   "language": "python",
   "name": "python3"
  },
  "language_info": {
   "codemirror_mode": {
    "name": "ipython",
    "version": 3
   },
   "file_extension": ".py",
   "mimetype": "text/x-python",
   "name": "python",
   "nbconvert_exporter": "python",
   "pygments_lexer": "ipython3",
   "version": "3.7.3"
  }
 },
 "nbformat": 4,
 "nbformat_minor": 2
}
